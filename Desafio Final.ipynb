{
 "cells": [
  {
   "cell_type": "code",
   "execution_count": 78,
   "id": "dab1886b",
   "metadata": {},
   "outputs": [],
   "source": [
    "import pandas as pd\n",
    "import numpy as np\n",
    "import matplotlib.pyplot as plt\n",
    "#Importando bibliotecas"
   ]
  },
  {
   "cell_type": "code",
   "execution_count": 80,
   "id": "aa43a6be",
   "metadata": {
    "scrolled": false
   },
   "outputs": [
    {
     "name": "stdout",
     "output_type": "stream",
     "text": [
      "               country  child_mort  exports  health  imports  income  \\\n",
      "0          Afghanistan        90.2     10.0    7.58     44.9    1610   \n",
      "1              Albania        16.6     28.0    6.55     48.6    9930   \n",
      "2              Algeria        27.3     38.4    4.17     31.4   12900   \n",
      "3               Angola       119.0     62.3    2.85     42.9    5900   \n",
      "4  Antigua and Barbuda        10.3     45.5    6.03     58.9   19100   \n",
      "\n",
      "   inflation  life_expec  total_fer   gdpp  \n",
      "0       9.44        56.2       5.82    553  \n",
      "1       4.49        76.3       1.65   4090  \n",
      "2      16.10        76.5       2.89   4460  \n",
      "3      22.40        60.1       6.16   3530  \n",
      "4       1.44        76.8       2.13  12200  \n",
      "<class 'pandas.core.frame.DataFrame'>\n",
      "RangeIndex: 167 entries, 0 to 166\n",
      "Data columns (total 10 columns):\n",
      " #   Column      Non-Null Count  Dtype  \n",
      "---  ------      --------------  -----  \n",
      " 0   country     167 non-null    object \n",
      " 1   child_mort  167 non-null    float64\n",
      " 2   exports     167 non-null    float64\n",
      " 3   health      167 non-null    float64\n",
      " 4   imports     167 non-null    float64\n",
      " 5   income      167 non-null    int64  \n",
      " 6   inflation   167 non-null    float64\n",
      " 7   life_expec  167 non-null    float64\n",
      " 8   total_fer   167 non-null    float64\n",
      " 9   gdpp        167 non-null    int64  \n",
      "dtypes: float64(7), int64(2), object(1)\n",
      "memory usage: 13.2+ KB\n",
      "None\n"
     ]
    }
   ],
   "source": [
    "df = pd.read_csv(\"Country-data.csv\") # Carregando os dados da planilha\n",
    "print(df.head()) # Mostrando as linhas iniciais da planilha\n",
    "print(df.info()) # Mostrando as informações de cada coluna"
   ]
  },
  {
   "cell_type": "code",
   "execution_count": 81,
   "id": "f18da5d7",
   "metadata": {},
   "outputs": [
    {
     "name": "stdout",
     "output_type": "stream",
     "text": [
      "                  País  Taxa de mortalidade infantil  \\\n",
      "0          Afghanistan                          90.2   \n",
      "1              Albania                          16.6   \n",
      "2              Algeria                          27.3   \n",
      "3               Angola                         119.0   \n",
      "4  Antigua and Barbuda                          10.3   \n",
      "\n",
      "   Exportações (% do PIB per capita)  Saúde (% do PIB per capita)  \\\n",
      "0                               10.0                         7.58   \n",
      "1                               28.0                         6.55   \n",
      "2                               38.4                         4.17   \n",
      "3                               62.3                         2.85   \n",
      "4                               45.5                         6.03   \n",
      "\n",
      "   Importações (% do PIB per capita)  Renda per capita (em dólares)  \\\n",
      "0                               44.9                           1610   \n",
      "1                               48.6                           9930   \n",
      "2                               31.4                          12900   \n",
      "3                               42.9                           5900   \n",
      "4                               58.9                          19100   \n",
      "\n",
      "   Inflação (índice anual)  Expectativa de vida (em anos)  \\\n",
      "0                     9.44                           56.2   \n",
      "1                     4.49                           76.3   \n",
      "2                    16.10                           76.5   \n",
      "3                    22.40                           60.1   \n",
      "4                     1.44                           76.8   \n",
      "\n",
      "   Taxa de fertilidade total (número médio de filhos por mulher)  \\\n",
      "0                                               5.82               \n",
      "1                                               1.65               \n",
      "2                                               2.89               \n",
      "3                                               6.16               \n",
      "4                                               2.13               \n",
      "\n",
      "   PIB per capita (em dólares)  \n",
      "0                          553  \n",
      "1                         4090  \n",
      "2                         4460  \n",
      "3                         3530  \n",
      "4                        12200  \n"
     ]
    }
   ],
   "source": [
    "df.rename(columns={\n",
    "    'country': 'País',\n",
    "    'child_mort': 'Taxa de mortalidade infantil',\n",
    "    'exports': 'Exportações (% do PIB per capita)',\n",
    "    'health': 'Saúde (% do PIB per capita)',\n",
    "    'imports': 'Importações (% do PIB per capita)',\n",
    "    'income': 'Renda per capita (em dólares)',\n",
    "    'inflation': 'Inflação (índice anual)',\n",
    "    'life_expec': 'Expectativa de vida (em anos)',\n",
    "    'total_fer': 'Taxa de fertilidade total (número médio de filhos por mulher)',\n",
    "    'gdpp': 'PIB per capita (em dólares)'\n",
    "}, inplace=True)\n",
    "\n",
    "print(df.head())  # Fazendo a tradução das colunas"
   ]
  },
  {
   "cell_type": "code",
   "execution_count": 82,
   "id": "de5c0630",
   "metadata": {},
   "outputs": [],
   "source": [
    "df.drop_duplicates(inplace=True) # Limpando os dados duplicados"
   ]
  },
  {
   "cell_type": "code",
   "execution_count": 85,
   "id": "b31fc8b7",
   "metadata": {},
   "outputs": [
    {
     "name": "stdout",
     "output_type": "stream",
     "text": [
      "Taxa de mortalidade infantil                                     0\n",
      "Exportações (% do PIB per capita)                                0\n",
      "Saúde (% do PIB per capita)                                      0\n",
      "Importações (% do PIB per capita)                                0\n",
      "Renda per capita (em dólares)                                    0\n",
      "Inflação (índice anual)                                          0\n",
      "Expectativa de vida (em anos)                                    0\n",
      "Taxa de fertilidade total (número médio de filhos por mulher)    0\n",
      "PIB per capita (em dólares)                                      0\n",
      "dtype: int64\n",
      "\n",
      "Dados ausentes após tratamento:\n",
      "Taxa de mortalidade infantil                                     0\n",
      "Exportações (% do PIB per capita)                                0\n",
      "Saúde (% do PIB per capita)                                      0\n",
      "Importações (% do PIB per capita)                                0\n",
      "Renda per capita (em dólares)                                    0\n",
      "Inflação (índice anual)                                          0\n",
      "Expectativa de vida (em anos)                                    0\n",
      "Taxa de fertilidade total (número médio de filhos por mulher)    0\n",
      "PIB per capita (em dólares)                                      0\n",
      "dtype: int64\n"
     ]
    }
   ],
   "source": [
    "colunas = df.select_dtypes(include=['float64', 'int64']).columns # Identifica colunas do tipo numéricas\n",
    "dados_ausentes = df[colunas].apply(lambda x: (x == 0) | (x == '') | (x == '-') | (pd.isnull(x))).sum()\n",
    "# Identifica os valores em cada coluna que sejam iguais a 0, '-' ou vazio e contabiliza\n",
    "\n",
    "print(dados_ausentes) # Printa a quantidade de dados ausentes em cada coluna\n",
    "\n",
    "for col in dados_ausentes[dados_ausentes > 0].index: # Para cada coluna com dados ausentes\n",
    "    mediana = df[col].replace(0, np.nan).replace('-', np.nan).replace('', np.nan).median() # Calcula a mediana da coluna que tenha dados faltantes\n",
    "    df[col] = df[col].replace(0, np.nan).replace('-', np.nan).fillna(mediana) # Substitui valores 0, '-', e vazio pela mediana da coluna\n",
    "    print(f\"Mediana da coluna {col}: {mediana}\")  # Printa a mediana da coluna\n",
    "\n",
    "dados_corrigidos = df[colunas].apply(lambda x: (x == 0) | (x == '-') | (x == '') | (pd.isnull(x))).sum() # Verifica se todos os dados ausentes foram tratados\n",
    "print(\"\\nDados ausentes após tratamento:\")\n",
    "print(dados_corrigidos)"
   ]
  }
 ],
 "metadata": {
  "kernelspec": {
   "display_name": "Python 3 (ipykernel)",
   "language": "python",
   "name": "python3"
  },
  "language_info": {
   "codemirror_mode": {
    "name": "ipython",
    "version": 3
   },
   "file_extension": ".py",
   "mimetype": "text/x-python",
   "name": "python",
   "nbconvert_exporter": "python",
   "pygments_lexer": "ipython3",
   "version": "3.11.5"
  }
 },
 "nbformat": 4,
 "nbformat_minor": 5
}
